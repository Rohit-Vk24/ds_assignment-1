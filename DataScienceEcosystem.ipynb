{
 "cells": [
  {
   "cell_type": "markdown",
   "id": "f3d05634",
   "metadata": {},
   "source": [
    "<h1>Data Science Tools and Ecosystem</h1>"
   ]
  },
  {
   "cell_type": "markdown",
   "id": "a8d11c52",
   "metadata": {},
   "source": [
    "<p>In this notebook, Data Science Tools and Ecosystem are summarized.</p>"
   ]
  },
  {
   "cell_type": "markdown",
   "id": "f0f79b63",
   "metadata": {},
   "source": [
    "<p>Some of the popular languages that Data Scientists use are:</p>\n",
    "    <ol>\n",
    "    <li>python</li>\n",
    "     <li>R</li>\n",
    "        <li>Julia</li>\n",
    "        </ol>"
   ]
  },
  {
   "cell_type": "markdown",
   "id": "f01517fd",
   "metadata": {},
   "source": [
    "<p>Some of the commonly used libraries used by Data Scientists include:</p>\n",
    "    <ol>\n",
    "    <li>Numpy</li>\n",
    "    <li>Pandas</li>\n",
    "    <li>Matplotlib</li>\n",
    "    </ol>"
   ]
  },
  {
   "cell_type": "markdown",
   "id": "92d706a7",
   "metadata": {},
   "source": [
    "<table>\n",
    "  <tr>\n",
    "    <th>Data Science Tools</th>\n",
    "    </tr>\n",
    "    <tr>\n",
    "    <td>Jupyter Notebooks</td>\n",
    "    </tr>\n",
    "    <tr>\n",
    "    <td>RStudio</td>\n",
    "    </tr>\n",
    "    <tr>\n",
    "    <td>VS Code with Python</td>\n",
    "    </tr>\n",
    "</table>\n"
   ]
  },
  {
   "cell_type": "markdown",
   "id": "50cc5a0a",
   "metadata": {},
   "source": [
    "<h3>Below are a few examples of evaluating arithmetic expressions in Python</h3>"
   ]
  },
  {
   "cell_type": "code",
   "execution_count": 6,
   "id": "ec5cac3c",
   "metadata": {},
   "outputs": [
    {
     "data": {
      "text/plain": [
       "17"
      ]
     },
     "execution_count": 6,
     "metadata": {},
     "output_type": "execute_result"
    }
   ],
   "source": [
    "result = (3 * 4) + 5\n",
    "result"
   ]
  },
  {
   "cell_type": "code",
   "execution_count": 7,
   "id": "19412450",
   "metadata": {},
   "outputs": [
    {
     "data": {
      "text/plain": [
       "3.3333333333333335"
      ]
     },
     "execution_count": 7,
     "metadata": {},
     "output_type": "execute_result"
    }
   ],
   "source": [
    "hours = 200 / 60\n",
    "hours"
   ]
  },
  {
   "cell_type": "markdown",
   "id": "1c3f76d7",
   "metadata": {},
   "source": [
    "<h2><strong>Objectives:</strong></h2>\n",
    "<ul>\n",
    "  <li>Understand key concepts in Data Science.</li>\n",
    "    <li>List popular programming languages for Data Science.</li>\n",
    "    <li>Explore common tools and environments used in Data Science.</li>\n",
    "    <li>Demonstrate basic arithmetic operations in a programming environment.</li>\n",
    "    <li>Convert units (e.g., minutes to hours) using programming expressions.</li>\n",
    "</ul>\n"
   ]
  },
  {
   "cell_type": "markdown",
   "id": "bd00f1d0",
   "metadata": {},
   "source": [
    "<h2>Author</h2>\n",
    "<p>Rohit N</p>"
   ]
  },
  {
   "cell_type": "code",
   "execution_count": null,
   "id": "56d513d1",
   "metadata": {},
   "outputs": [],
   "source": []
  }
 ],
 "metadata": {
  "kernelspec": {
   "display_name": "Python 3 (ipykernel)",
   "language": "python",
   "name": "python3"
  },
  "language_info": {
   "codemirror_mode": {
    "name": "ipython",
    "version": 3
   },
   "file_extension": ".py",
   "mimetype": "text/x-python",
   "name": "python",
   "nbconvert_exporter": "python",
   "pygments_lexer": "ipython3",
   "version": "3.10.9"
  }
 },
 "nbformat": 4,
 "nbformat_minor": 5
}
